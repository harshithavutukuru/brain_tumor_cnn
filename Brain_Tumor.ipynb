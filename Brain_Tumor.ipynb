{
  "nbformat": 4,
  "nbformat_minor": 0,
  "metadata": {
    "colab": {
      "provenance": [],
      "authorship_tag": "ABX9TyNnnnEW3kiv7gvZOukb6USJ",
      "include_colab_link": true
    },
    "kernelspec": {
      "name": "python3",
      "display_name": "Python 3"
    },
    "language_info": {
      "name": "python"
    }
  },
  "cells": [
    {
      "cell_type": "markdown",
      "metadata": {
        "id": "view-in-github",
        "colab_type": "text"
      },
      "source": [
        "<a href=\"https://colab.research.google.com/github/harshithavutukuru/brain_tumor_cnn/blob/main/Brain_Tumor.ipynb\" target=\"_parent\"><img src=\"https://colab.research.google.com/assets/colab-badge.svg\" alt=\"Open In Colab\"/></a>"
      ]
    },
    {
      "cell_type": "code",
      "execution_count": 5,
      "metadata": {
        "id": "c2Pw-ANFUgXn"
      },
      "outputs": [],
      "source": [
        "import os\n",
        "os.environ['KAGGLE_CONFIG-DIR'] = '/content/kaggle.json'"
      ]
    },
    {
      "cell_type": "code",
      "source": [
        "import os\n",
        "\n",
        "os.environ['KAGGLE_USERNAME'] = \"harshithavutukuru\"\n",
        "os.environ['KAGGLE_KEY'] = \"37e0c6e97ac58d5051647aee93a2571b\"\n"
      ],
      "metadata": {
        "id": "4whUOIWrZZ00"
      },
      "execution_count": 6,
      "outputs": []
    },
    {
      "cell_type": "code",
      "source": [
        "!kaggle datasets download -d preetviradiya/brian-tumor-dataset"
      ],
      "metadata": {
        "colab": {
          "base_uri": "https://localhost:8080/"
        },
        "id": "d68Tx5WraBPS",
        "outputId": "1a5f8107-6d3c-4789-f529-549d50a6a53d"
      },
      "execution_count": 7,
      "outputs": [
        {
          "output_type": "stream",
          "name": "stdout",
          "text": [
            "Downloading brian-tumor-dataset.zip to /content\n",
            " 83% 89.0M/107M [00:03<00:00, 32.2MB/s]\n",
            "100% 107M/107M [00:03<00:00, 31.0MB/s] \n"
          ]
        }
      ]
    },
    {
      "cell_type": "code",
      "source": [],
      "metadata": {
        "id": "4xa5IPi3bg5y"
      },
      "execution_count": null,
      "outputs": []
    },
    {
      "cell_type": "code",
      "source": [
        "!mkdir ~/.kaggle\n",
        "!cp /content/kaggle.json ~/.kaggle/\n",
        "!chmod 600 ~/.kaggle/kaggle.json\n"
      ],
      "metadata": {
        "colab": {
          "base_uri": "https://localhost:8080/"
        },
        "id": "CwXQ3q9tbR0g",
        "outputId": "5b75e96d-8e8c-48c0-a3d4-9e093d8a3fbd"
      },
      "execution_count": 8,
      "outputs": [
        {
          "output_type": "stream",
          "name": "stdout",
          "text": [
            "mkdir: cannot create directory ‘/root/.kaggle’: File exists\n"
          ]
        }
      ]
    },
    {
      "cell_type": "code",
      "source": [
        "import zipfile\n",
        "\n",
        "with zipfile.ZipFile('brian-tumor-dataset.zip', 'r') as zip_ref:\n",
        "    zip_ref.extractall('/content/dataset')\n"
      ],
      "metadata": {
        "id": "gio27ql-bdC5"
      },
      "execution_count": 9,
      "outputs": []
    }
  ]
}